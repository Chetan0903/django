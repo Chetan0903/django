{
 "cells": [
  {
   "cell_type": "code",
   "execution_count": 32,
   "id": "cf038827",
   "metadata": {},
   "outputs": [],
   "source": [
    "import pandas as pd\n",
    "import numpy as np\n",
    "import matplotlib.pyplot as plt"
   ]
  },
  {
   "cell_type": "markdown",
   "id": "fd0dbb38",
   "metadata": {},
   "source": [
    "### reading books data"
   ]
  },
  {
   "cell_type": "code",
   "execution_count": 33,
   "id": "f25a0ced",
   "metadata": {},
   "outputs": [
    {
     "name": "stderr",
     "output_type": "stream",
     "text": [
      "b'Skipping line 340: expected 3 fields, saw 4\\nSkipping line 413: expected 3 fields, saw 4\\nSkipping line 426: expected 3 fields, saw 4\\n'\n"
     ]
    }
   ],
   "source": [
    "books = pd.read_csv('books_data\\\\data.csv',sep=',',error_bad_lines=False)"
   ]
  },
  {
   "cell_type": "code",
   "execution_count": 34,
   "id": "3cf795e2",
   "metadata": {},
   "outputs": [
    {
     "data": {
      "text/html": [
       "<div>\n",
       "<style scoped>\n",
       "    .dataframe tbody tr th:only-of-type {\n",
       "        vertical-align: middle;\n",
       "    }\n",
       "\n",
       "    .dataframe tbody tr th {\n",
       "        vertical-align: top;\n",
       "    }\n",
       "\n",
       "    .dataframe thead th {\n",
       "        text-align: right;\n",
       "    }\n",
       "</style>\n",
       "<table border=\"1\" class=\"dataframe\">\n",
       "  <thead>\n",
       "    <tr style=\"text-align: right;\">\n",
       "      <th></th>\n",
       "      <th>Fundamentals of data structures in Pascal (Computer software engineering series)</th>\n",
       "      <th>\"Ellis Horowitz\"</th>\n",
       "      <th>Computer Engineering</th>\n",
       "    </tr>\n",
       "  </thead>\n",
       "  <tbody>\n",
       "    <tr>\n",
       "      <th>0</th>\n",
       "      <td>Symmetrical Components for Power Systems Engin...</td>\n",
       "      <td>\"J. Lewis Blackburn\"</td>\n",
       "      <td>Computer Engineering</td>\n",
       "    </tr>\n",
       "    <tr>\n",
       "      <th>1</th>\n",
       "      <td>Computer Engineering Handbook</td>\n",
       "      <td>\"C.H. Chen\"</td>\n",
       "      <td>Computer Engineering</td>\n",
       "    </tr>\n",
       "    <tr>\n",
       "      <th>2</th>\n",
       "      <td>Trends in Intelligent Systems and Computer Eng...</td>\n",
       "      <td>\"Oscar Castillo\"</td>\n",
       "      <td>Computer Engineering</td>\n",
       "    </tr>\n",
       "    <tr>\n",
       "      <th>3</th>\n",
       "      <td>Mathematics: The Language of Electrical and Co...</td>\n",
       "      <td>\"Li Xu\"</td>\n",
       "      <td>Computer Engineering</td>\n",
       "    </tr>\n",
       "    <tr>\n",
       "      <th>4</th>\n",
       "      <td>Computer Engineering Sample Exam for the Elect...</td>\n",
       "      <td>\"Yannis Viniotis\"</td>\n",
       "      <td>Computer Engineering</td>\n",
       "    </tr>\n",
       "  </tbody>\n",
       "</table>\n",
       "</div>"
      ],
      "text/plain": [
       "  Fundamentals of data structures in Pascal (Computer software engineering series)  \\\n",
       "0  Symmetrical Components for Power Systems Engin...                                 \n",
       "1                      Computer Engineering Handbook                                 \n",
       "2  Trends in Intelligent Systems and Computer Eng...                                 \n",
       "3  Mathematics: The Language of Electrical and Co...                                 \n",
       "4  Computer Engineering Sample Exam for the Elect...                                 \n",
       "\n",
       "        \"Ellis Horowitz\"   Computer Engineering  \n",
       "0   \"J. Lewis Blackburn\"   Computer Engineering  \n",
       "1            \"C.H. Chen\"   Computer Engineering  \n",
       "2       \"Oscar Castillo\"   Computer Engineering  \n",
       "3                \"Li Xu\"   Computer Engineering  \n",
       "4      \"Yannis Viniotis\"   Computer Engineering  "
      ]
     },
     "execution_count": 34,
     "metadata": {},
     "output_type": "execute_result"
    }
   ],
   "source": [
    "books.head()"
   ]
  },
  {
   "cell_type": "code",
   "execution_count": 35,
   "id": "58893c85",
   "metadata": {},
   "outputs": [],
   "source": [
    "books.columns=['Title','Author','Domain']"
   ]
  },
  {
   "cell_type": "code",
   "execution_count": 36,
   "id": "5de7eeea",
   "metadata": {},
   "outputs": [
    {
     "data": {
      "text/html": [
       "<div>\n",
       "<style scoped>\n",
       "    .dataframe tbody tr th:only-of-type {\n",
       "        vertical-align: middle;\n",
       "    }\n",
       "\n",
       "    .dataframe tbody tr th {\n",
       "        vertical-align: top;\n",
       "    }\n",
       "\n",
       "    .dataframe thead th {\n",
       "        text-align: right;\n",
       "    }\n",
       "</style>\n",
       "<table border=\"1\" class=\"dataframe\">\n",
       "  <thead>\n",
       "    <tr style=\"text-align: right;\">\n",
       "      <th></th>\n",
       "      <th>Title</th>\n",
       "      <th>Author</th>\n",
       "      <th>Domain</th>\n",
       "    </tr>\n",
       "  </thead>\n",
       "  <tbody>\n",
       "    <tr>\n",
       "      <th>0</th>\n",
       "      <td>Symmetrical Components for Power Systems Engin...</td>\n",
       "      <td>\"J. Lewis Blackburn\"</td>\n",
       "      <td>Computer Engineering</td>\n",
       "    </tr>\n",
       "    <tr>\n",
       "      <th>1</th>\n",
       "      <td>Computer Engineering Handbook</td>\n",
       "      <td>\"C.H. Chen\"</td>\n",
       "      <td>Computer Engineering</td>\n",
       "    </tr>\n",
       "    <tr>\n",
       "      <th>2</th>\n",
       "      <td>Trends in Intelligent Systems and Computer Eng...</td>\n",
       "      <td>\"Oscar Castillo\"</td>\n",
       "      <td>Computer Engineering</td>\n",
       "    </tr>\n",
       "    <tr>\n",
       "      <th>3</th>\n",
       "      <td>Mathematics: The Language of Electrical and Co...</td>\n",
       "      <td>\"Li Xu\"</td>\n",
       "      <td>Computer Engineering</td>\n",
       "    </tr>\n",
       "    <tr>\n",
       "      <th>4</th>\n",
       "      <td>Computer Engineering Sample Exam for the Elect...</td>\n",
       "      <td>\"Yannis Viniotis\"</td>\n",
       "      <td>Computer Engineering</td>\n",
       "    </tr>\n",
       "  </tbody>\n",
       "</table>\n",
       "</div>"
      ],
      "text/plain": [
       "                                               Title                 Author  \\\n",
       "0  Symmetrical Components for Power Systems Engin...   \"J. Lewis Blackburn\"   \n",
       "1                      Computer Engineering Handbook            \"C.H. Chen\"   \n",
       "2  Trends in Intelligent Systems and Computer Eng...       \"Oscar Castillo\"   \n",
       "3  Mathematics: The Language of Electrical and Co...                \"Li Xu\"   \n",
       "4  Computer Engineering Sample Exam for the Elect...      \"Yannis Viniotis\"   \n",
       "\n",
       "                  Domain  \n",
       "0   Computer Engineering  \n",
       "1   Computer Engineering  \n",
       "2   Computer Engineering  \n",
       "3   Computer Engineering  \n",
       "4   Computer Engineering  "
      ]
     },
     "execution_count": 36,
     "metadata": {},
     "output_type": "execute_result"
    }
   ],
   "source": [
    "books.head()"
   ]
  },
  {
   "cell_type": "markdown",
   "id": "33af51d2",
   "metadata": {},
   "source": [
    "### reading students data"
   ]
  },
  {
   "cell_type": "code",
   "execution_count": 37,
   "id": "c4bf701d",
   "metadata": {},
   "outputs": [],
   "source": [
    "studs=pd.read_csv('stud_data\\\\stud_data.csv',sep=',')"
   ]
  },
  {
   "cell_type": "code",
   "execution_count": 41,
   "id": "34edf5ac",
   "metadata": {},
   "outputs": [],
   "source": [
    "studs.columns=['name','prn','username']"
   ]
  },
  {
   "cell_type": "code",
   "execution_count": 42,
   "id": "be9c4cfc",
   "metadata": {},
   "outputs": [
    {
     "data": {
      "text/html": [
       "<div>\n",
       "<style scoped>\n",
       "    .dataframe tbody tr th:only-of-type {\n",
       "        vertical-align: middle;\n",
       "    }\n",
       "\n",
       "    .dataframe tbody tr th {\n",
       "        vertical-align: top;\n",
       "    }\n",
       "\n",
       "    .dataframe thead th {\n",
       "        text-align: right;\n",
       "    }\n",
       "</style>\n",
       "<table border=\"1\" class=\"dataframe\">\n",
       "  <thead>\n",
       "    <tr style=\"text-align: right;\">\n",
       "      <th></th>\n",
       "      <th>name</th>\n",
       "      <th>prn</th>\n",
       "      <th>username</th>\n",
       "    </tr>\n",
       "  </thead>\n",
       "  <tbody>\n",
       "    <tr>\n",
       "      <th>0</th>\n",
       "      <td>chetan</td>\n",
       "      <td>1826</td>\n",
       "      <td>chetan</td>\n",
       "    </tr>\n",
       "    <tr>\n",
       "      <th>1</th>\n",
       "      <td>mary79</td>\n",
       "      <td>287KJI</td>\n",
       "      <td>mary79</td>\n",
       "    </tr>\n",
       "    <tr>\n",
       "      <th>2</th>\n",
       "      <td>landrythomas</td>\n",
       "      <td>QTDSL7</td>\n",
       "      <td>landrythomas</td>\n",
       "    </tr>\n",
       "    <tr>\n",
       "      <th>3</th>\n",
       "      <td>emilyaustin</td>\n",
       "      <td>L5I4PN</td>\n",
       "      <td>emilyaustin</td>\n",
       "    </tr>\n",
       "    <tr>\n",
       "      <th>4</th>\n",
       "      <td>ujimenez</td>\n",
       "      <td>F6OW20</td>\n",
       "      <td>ujimenez</td>\n",
       "    </tr>\n",
       "  </tbody>\n",
       "</table>\n",
       "</div>"
      ],
      "text/plain": [
       "           name     prn      username\n",
       "0        chetan    1826        chetan\n",
       "1        mary79  287KJI        mary79\n",
       "2  landrythomas  QTDSL7  landrythomas\n",
       "3   emilyaustin  L5I4PN   emilyaustin\n",
       "4      ujimenez  F6OW20      ujimenez"
      ]
     },
     "execution_count": 42,
     "metadata": {},
     "output_type": "execute_result"
    }
   ],
   "source": [
    "studs.head()"
   ]
  },
  {
   "cell_type": "markdown",
   "id": "a456de14",
   "metadata": {},
   "source": [
    "### reading ratings data"
   ]
  },
  {
   "cell_type": "code",
   "execution_count": 43,
   "id": "c0ec8a7f",
   "metadata": {},
   "outputs": [],
   "source": [
    "ratings=pd.read_csv('ratings_data\\\\rating.csv',sep=',')"
   ]
  },
  {
   "cell_type": "code",
   "execution_count": 44,
   "id": "1e8a7659",
   "metadata": {},
   "outputs": [],
   "source": [
    "ratings.columns=['Title','isbn','prn','rating']"
   ]
  },
  {
   "cell_type": "code",
   "execution_count": 45,
   "id": "e71a7083",
   "metadata": {},
   "outputs": [
    {
     "data": {
      "text/html": [
       "<div>\n",
       "<style scoped>\n",
       "    .dataframe tbody tr th:only-of-type {\n",
       "        vertical-align: middle;\n",
       "    }\n",
       "\n",
       "    .dataframe tbody tr th {\n",
       "        vertical-align: top;\n",
       "    }\n",
       "\n",
       "    .dataframe thead th {\n",
       "        text-align: right;\n",
       "    }\n",
       "</style>\n",
       "<table border=\"1\" class=\"dataframe\">\n",
       "  <thead>\n",
       "    <tr style=\"text-align: right;\">\n",
       "      <th></th>\n",
       "      <th>Title</th>\n",
       "      <th>isbn</th>\n",
       "      <th>prn</th>\n",
       "      <th>rating</th>\n",
       "    </tr>\n",
       "  </thead>\n",
       "  <tbody>\n",
       "    <tr>\n",
       "      <th>0</th>\n",
       "      <td>Question Bank in Electronics &amp; Communication ...</td>\n",
       "      <td>GOM-CTCD-95IM</td>\n",
       "      <td>F6OW20</td>\n",
       "      <td>3</td>\n",
       "    </tr>\n",
       "    <tr>\n",
       "      <th>1</th>\n",
       "      <td>Basic Electrical and Electronics Engineering ...</td>\n",
       "      <td>JDB-28SL-BBGV</td>\n",
       "      <td>F6OW20</td>\n",
       "      <td>1</td>\n",
       "    </tr>\n",
       "    <tr>\n",
       "      <th>2</th>\n",
       "      <td>Basics of Electrical &amp; Electronics Engineerin...</td>\n",
       "      <td>JRL-G85Q-MOIK</td>\n",
       "      <td>F6OW20</td>\n",
       "      <td>4</td>\n",
       "    </tr>\n",
       "    <tr>\n",
       "      <th>3</th>\n",
       "      <td>Understanding Automotive Electronics: An Engi...</td>\n",
       "      <td>M05-92XL-E6IQ</td>\n",
       "      <td>F6OW20</td>\n",
       "      <td>4</td>\n",
       "    </tr>\n",
       "    <tr>\n",
       "      <th>4</th>\n",
       "      <td>A Dictionary of Electronics and Electrical En...</td>\n",
       "      <td>LAS-P1SP-IQG9</td>\n",
       "      <td>OPCPEK</td>\n",
       "      <td>5</td>\n",
       "    </tr>\n",
       "  </tbody>\n",
       "</table>\n",
       "</div>"
      ],
      "text/plain": [
       "                                              Title           isbn     prn  \\\n",
       "0  Question Bank in Electronics & Communication ...  GOM-CTCD-95IM  F6OW20   \n",
       "1  Basic Electrical and Electronics Engineering ...  JDB-28SL-BBGV  F6OW20   \n",
       "2  Basics of Electrical & Electronics Engineerin...  JRL-G85Q-MOIK  F6OW20   \n",
       "3  Understanding Automotive Electronics: An Engi...  M05-92XL-E6IQ  F6OW20   \n",
       "4  A Dictionary of Electronics and Electrical En...  LAS-P1SP-IQG9  OPCPEK   \n",
       "\n",
       "   rating  \n",
       "0       3  \n",
       "1       1  \n",
       "2       4  \n",
       "3       4  \n",
       "4       5  "
      ]
     },
     "execution_count": 45,
     "metadata": {},
     "output_type": "execute_result"
    }
   ],
   "source": [
    "ratings.head()"
   ]
  },
  {
   "cell_type": "code",
   "execution_count": 46,
   "id": "4660d130",
   "metadata": {},
   "outputs": [
    {
     "name": "stdout",
     "output_type": "stream",
     "text": [
      "(575, 3) (152, 3) (1828, 4)\n"
     ]
    }
   ],
   "source": [
    "print(books.shape,studs.shape,ratings.shape)"
   ]
  },
  {
   "cell_type": "code",
   "execution_count": 47,
   "id": "f0cb75c5",
   "metadata": {},
   "outputs": [
    {
     "data": {
      "image/png": "[encoded data removed]",
      "text/plain": [
       "<Figure size 432x288 with 1 Axes>"
      ]
     },
     "metadata": {
      "needs_background": "light"
     },
     "output_type": "display_data"
    }
   ],
   "source": [
    "plt.rc(\"font\", size=15)\n",
    "ratings.rating.value_counts(sort=False).plot(kind='bar')\n",
    "plt.title('Rating Distribution\\n')\n",
    "plt.xlabel('Rating')\n",
    "plt.ylabel('Count')\n",
    "plt.show()"
   ]
  },
  {
   "cell_type": "code",
   "execution_count": 53,
   "id": "aa172cb6",
   "metadata": {},
   "outputs": [],
   "source": [
    "book_ratingCount = (ratings.\n",
    "     groupby(by = ['Title'])['rating'].\n",
    "     count().\n",
    "     reset_index().\n",
    "     rename(columns = {'rating': 'totalRatingCount'})\n",
    "     [['Title', 'totalRatingCount']]\n",
    "    )"
   ]
  },
  {
   "cell_type": "code",
   "execution_count": 54,
   "id": "b90f2da6",
   "metadata": {},
   "outputs": [
    {
     "data": {
      "text/html": [
       "<div>\n",
       "<style scoped>\n",
       "    .dataframe tbody tr th:only-of-type {\n",
       "        vertical-align: middle;\n",
       "    }\n",
       "\n",
       "    .dataframe tbody tr th {\n",
       "        vertical-align: top;\n",
       "    }\n",
       "\n",
       "    .dataframe thead th {\n",
       "        text-align: right;\n",
       "    }\n",
       "</style>\n",
       "<table border=\"1\" class=\"dataframe\">\n",
       "  <thead>\n",
       "    <tr style=\"text-align: right;\">\n",
       "      <th></th>\n",
       "      <th>Title</th>\n",
       "      <th>totalRatingCount</th>\n",
       "    </tr>\n",
       "  </thead>\n",
       "  <tbody>\n",
       "    <tr>\n",
       "      <th>0</th>\n",
       "      <td>2000 Solved Problems in Mechanical Engineerin...</td>\n",
       "      <td>8</td>\n",
       "    </tr>\n",
       "    <tr>\n",
       "      <th>1</th>\n",
       "      <td>2016 Gate Mechanical Engineering and PI Engin...</td>\n",
       "      <td>2</td>\n",
       "    </tr>\n",
       "    <tr>\n",
       "      <th>2</th>\n",
       "      <td>5200 Fully Solved MCQ for IES, GATE &amp; PSUs: M...</td>\n",
       "      <td>2</td>\n",
       "    </tr>\n",
       "    <tr>\n",
       "      <th>3</th>\n",
       "      <td>A Brief History of Mechanical Engineering</td>\n",
       "      <td>7</td>\n",
       "    </tr>\n",
       "    <tr>\n",
       "      <th>4</th>\n",
       "      <td>A Course in Civil Engineering Drawing</td>\n",
       "      <td>4</td>\n",
       "    </tr>\n",
       "    <tr>\n",
       "      <th>...</th>\n",
       "      <td>...</td>\n",
       "      <td>...</td>\n",
       "    </tr>\n",
       "    <tr>\n",
       "      <th>338</th>\n",
       "      <td>What Can Be Automated?: Computer Science and ...</td>\n",
       "      <td>52</td>\n",
       "    </tr>\n",
       "    <tr>\n",
       "      <th>339</th>\n",
       "      <td>Wiley Acing the Gate - Mechanical Engineering</td>\n",
       "      <td>4</td>\n",
       "    </tr>\n",
       "    <tr>\n",
       "      <th>340</th>\n",
       "      <td>Wiley Acing the Gate: Electronics and Communi...</td>\n",
       "      <td>3</td>\n",
       "    </tr>\n",
       "    <tr>\n",
       "      <th>341</th>\n",
       "      <td>Wiley Encyclopedia of Computer Science and En...</td>\n",
       "      <td>30</td>\n",
       "    </tr>\n",
       "    <tr>\n",
       "      <th>342</th>\n",
       "      <td>Woerterbuch Maschinenbau (109000 Fachueberset...</td>\n",
       "      <td>3</td>\n",
       "    </tr>\n",
       "  </tbody>\n",
       "</table>\n",
       "<p>343 rows × 2 columns</p>\n",
       "</div>"
      ],
      "text/plain": [
       "                                                Title  totalRatingCount\n",
       "0    2000 Solved Problems in Mechanical Engineerin...                 8\n",
       "1    2016 Gate Mechanical Engineering and PI Engin...                 2\n",
       "2    5200 Fully Solved MCQ for IES, GATE & PSUs: M...                 2\n",
       "3           A Brief History of Mechanical Engineering                 7\n",
       "4               A Course in Civil Engineering Drawing                 4\n",
       "..                                                ...               ...\n",
       "338  What Can Be Automated?: Computer Science and ...                52\n",
       "339     Wiley Acing the Gate - Mechanical Engineering                 4\n",
       "340  Wiley Acing the Gate: Electronics and Communi...                 3\n",
       "341  Wiley Encyclopedia of Computer Science and En...                30\n",
       "342  Woerterbuch Maschinenbau (109000 Fachueberset...                 3\n",
       "\n",
       "[343 rows x 2 columns]"
      ]
     },
     "execution_count": 54,
     "metadata": {},
     "output_type": "execute_result"
    }
   ],
   "source": [
    "book_ratingCount"
   ]
  },
  {
   "cell_type": "code",
   "execution_count": 55,
   "id": "dc885d16",
   "metadata": {},
   "outputs": [],
   "source": [
    "from scipy.sparse import csr_matrix"
   ]
  },
  {
   "cell_type": "code",
   "execution_count": 59,
   "id": "6e0996a9",
   "metadata": {},
   "outputs": [],
   "source": [
    "ratings=ratings.drop_duplicates(['prn', 'Title'])"
   ]
  },
  {
   "cell_type": "code",
   "execution_count": 60,
   "id": "9524e0c3",
   "metadata": {},
   "outputs": [],
   "source": [
    "from sklearn.neighbors import NearestNeighbors"
   ]
  },
  {
   "cell_type": "code",
   "execution_count": 72,
   "id": "64f98ea4",
   "metadata": {},
   "outputs": [],
   "source": [
    "ratings_pivot = ratings.pivot(index='prn', columns='isbn').rating"
   ]
  },
  {
   "cell_type": "code",
   "execution_count": 74,
   "id": "a957a053",
   "metadata": {},
   "outputs": [],
   "source": [
    "userID = ratings_pivot.index\n",
    "ISBN = ratings_pivot.columns"
   ]
  },
  {
   "cell_type": "code",
   "execution_count": 75,
   "id": "87751ea2",
   "metadata": {},
   "outputs": [],
   "source": [
    "ratings_pivot = ratings.pivot(index = 'Title', columns = 'prn', values = 'rating').fillna(0)"
   ]
  },
  {
   "cell_type": "code",
   "execution_count": 76,
   "id": "895c24fa",
   "metadata": {},
   "outputs": [],
   "source": [
    "ratings_matrix = csr_matrix(ratings_pivot.values)"
   ]
  },
  {
   "cell_type": "code",
   "execution_count": 77,
   "id": "9641fb9a",
   "metadata": {},
   "outputs": [
    {
     "data": {
      "text/plain": [
       "NearestNeighbors(algorithm='brute', metric='cosine')"
      ]
     },
     "execution_count": 77,
     "metadata": {},
     "output_type": "execute_result"
    }
   ],
   "source": [
    "model_knn = NearestNeighbors(metric = 'cosine', algorithm = 'brute')\n",
    "model_knn.fit(ratings_matrix)"
   ]
  },
  {
   "cell_type": "code",
   "execution_count": 89,
   "id": "e32d2698",
   "metadata": {},
   "outputs": [],
   "source": [
    "query_index = np.random.choice(ratings_pivot.shape[0])"
   ]
  },
  {
   "cell_type": "code",
   "execution_count": 90,
   "id": "d914dc52",
   "metadata": {},
   "outputs": [
    {
     "name": "stdout",
     "output_type": "stream",
     "text": [
      "27\n"
     ]
    }
   ],
   "source": [
    "print(query_index)"
   ]
  },
  {
   "cell_type": "code",
   "execution_count": 91,
   "id": "4c44b25e",
   "metadata": {},
   "outputs": [],
   "source": [
    "distances, indices = model_knn.kneighbors(ratings_pivot.iloc[query_index,:].values.reshape(1, -1), n_neighbors = 6)"
   ]
  },
  {
   "cell_type": "code",
   "execution_count": 92,
   "id": "1502bd6a",
   "metadata": {},
   "outputs": [
    {
     "data": {
      "text/plain": [
       "'Automatic Control Systems'"
      ]
     },
     "execution_count": 92,
     "metadata": {},
     "output_type": "execute_result"
    }
   ],
   "source": [
    "ratings_pivot.index[query_index]"
   ]
  },
  {
   "cell_type": "code",
   "execution_count": 93,
   "id": "ccb3a26a",
   "metadata": {},
   "outputs": [
    {
     "name": "stdout",
     "output_type": "stream",
     "text": [
      "Recommendations for Automatic Control Systems:\n",
      "\n",
      "1: A History Of Mechanical Engineering, with distance of 0.29289321881345254:\n",
      "2: Mechanical Engineering, with distance of 0.3603978509331688:\n",
      "3: The Beginner's Guide to Engineering: Mechanic..., with distance of 0.4544552744100191:\n",
      "4: GATE Tutor 2015: Mechanical Engineering, with distance of 0.5:\n",
      "5: Mechanical Engineering Science, with distance of 0.5049262285116629:\n"
     ]
    }
   ],
   "source": [
    "for i in range(0, len(distances.flatten())):\n",
    "    if i == 0:\n",
    "        print('Recommendations for {0}:\\n'.format(ratings_pivot.index[query_index]))\n",
    "    else:\n",
    "        print('{0}: {1}, with distance of {2}:'.format(i, ratings_pivot.index[indices.flatten()[i]], distances.flatten()[i]))"
   ]
  },
  {
   "cell_type": "code",
   "execution_count": null,
   "id": "d687b639",
   "metadata": {},
   "outputs": [],
   "source": []
  }
 ],
 "metadata": {
  "kernelspec": {
   "display_name": "Python 3",
   "language": "python",
   "name": "python3"
  },
  "language_info": {
   "codemirror_mode": {
    "name": "ipython",
    "version": 3
   },
   "file_extension": ".py",
   "mimetype": "text/x-python",
   "name": "python",
   "nbconvert_exporter": "python",
   "pygments_lexer": "ipython3",
   "version": "3.8.5"
  }
 },
 "nbformat": 4,
 "nbformat_minor": 5
}
